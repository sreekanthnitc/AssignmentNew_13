{
 "cells": [
  {
   "cell_type": "code",
   "execution_count": 1,
   "metadata": {},
   "outputs": [
    {
     "data": {
      "text/plain": [
       "'1.2.7'"
      ]
     },
     "execution_count": 1,
     "metadata": {},
     "output_type": "execute_result"
    }
   ],
   "source": [
    "# Import acreate Engine package\n",
    "import sqlalchemy\n",
    "sqlalchemy.__version__ "
   ]
  },
  {
   "cell_type": "code",
   "execution_count": 2,
   "metadata": {},
   "outputs": [],
   "source": [
    "from sqlalchemy import create_engine\n",
    "engine = create_engine('sqlite:///:memory:', echo=True)"
   ]
  },
  {
   "cell_type": "code",
   "execution_count": 3,
   "metadata": {},
   "outputs": [],
   "source": [
    "from sqlalchemy.ext.declarative import declarative_base\n",
    "Base = declarative_base()"
   ]
  },
  {
   "cell_type": "code",
   "execution_count": 4,
   "metadata": {},
   "outputs": [],
   "source": [
    "from sqlalchemy import Table, Column, Integer, String\n",
    "from sqlalchemy import Sequence\n",
    "\n",
    "class Adult(Base):\n",
    "     __tablename__ = 'adults'\n",
    "     id = Column(Integer, Sequence('adult_id_seq'), primary_key=True)\n",
    "     age = Column(Integer)\n",
    "     workclass = Column(String)\n",
    "     fnlwgt  = Column(Integer)\n",
    "     education = Column(String)\n",
    "     educationnum = Column(Integer)\n",
    "     maritalstatus = Column(String)\n",
    "     occupation = Column(String)\n",
    "     relationship       = Column(String)\n",
    "     race              = Column(String)\n",
    "     sex              = Column(String)\n",
    "     capitalgain    = Column(Integer)\n",
    "     capitalloss     = Column(Integer)\n",
    "     hoursperweek  = Column(Integer)\n",
    "     nativecountry   = Column(String)\n",
    "     classname = Column(String)"
   ]
  },
  {
   "cell_type": "code",
   "execution_count": 5,
   "metadata": {},
   "outputs": [
    {
     "data": {
      "text/plain": [
       "Table('adults', MetaData(bind=None), Column('id', Integer(), table=<adults>, primary_key=True, nullable=False, default=Sequence('adult_id_seq', metadata=MetaData(bind=None))), Column('age', Integer(), table=<adults>), Column('workclass', String(), table=<adults>), Column('fnlwgt', Integer(), table=<adults>), Column('education', String(), table=<adults>), Column('educationnum', Integer(), table=<adults>), Column('maritalstatus', String(), table=<adults>), Column('occupation', String(), table=<adults>), Column('relationship', String(), table=<adults>), Column('race', String(), table=<adults>), Column('sex', String(), table=<adults>), Column('capitalgain', Integer(), table=<adults>), Column('capitalloss', Integer(), table=<adults>), Column('hoursperweek', Integer(), table=<adults>), Column('nativecountry', String(), table=<adults>), Column('classname', String(), table=<adults>), schema=None)"
      ]
     },
     "execution_count": 5,
     "metadata": {},
     "output_type": "execute_result"
    }
   ],
   "source": [
    " Adult.__table__"
   ]
  },
  {
   "cell_type": "code",
   "execution_count": 6,
   "metadata": {},
   "outputs": [
    {
     "name": "stdout",
     "output_type": "stream",
     "text": [
      "2018-10-07 15:53:26,204 INFO sqlalchemy.engine.base.Engine SELECT CAST('test plain returns' AS VARCHAR(60)) AS anon_1\n",
      "2018-10-07 15:53:26,215 INFO sqlalchemy.engine.base.Engine ()\n",
      "2018-10-07 15:53:26,217 INFO sqlalchemy.engine.base.Engine SELECT CAST('test unicode returns' AS VARCHAR(60)) AS anon_1\n",
      "2018-10-07 15:53:26,219 INFO sqlalchemy.engine.base.Engine ()\n",
      "2018-10-07 15:53:26,221 INFO sqlalchemy.engine.base.Engine PRAGMA table_info(\"adults\")\n",
      "2018-10-07 15:53:26,232 INFO sqlalchemy.engine.base.Engine ()\n",
      "2018-10-07 15:53:26,235 INFO sqlalchemy.engine.base.Engine \n",
      "CREATE TABLE adults (\n",
      "\tid INTEGER NOT NULL, \n",
      "\tage INTEGER, \n",
      "\tworkclass VARCHAR, \n",
      "\tfnlwgt INTEGER, \n",
      "\teducation VARCHAR, \n",
      "\teducationnum INTEGER, \n",
      "\tmaritalstatus VARCHAR, \n",
      "\toccupation VARCHAR, \n",
      "\trelationship VARCHAR, \n",
      "\trace VARCHAR, \n",
      "\tsex VARCHAR, \n",
      "\tcapitalgain INTEGER, \n",
      "\tcapitalloss INTEGER, \n",
      "\thoursperweek INTEGER, \n",
      "\tnativecountry VARCHAR, \n",
      "\tclassname VARCHAR, \n",
      "\tPRIMARY KEY (id)\n",
      ")\n",
      "\n",
      "\n",
      "2018-10-07 15:53:26,236 INFO sqlalchemy.engine.base.Engine ()\n",
      "2018-10-07 15:53:26,237 INFO sqlalchemy.engine.base.Engine COMMIT\n"
     ]
    }
   ],
   "source": [
    "Base.metadata.create_all(engine)"
   ]
  },
  {
   "cell_type": "code",
   "execution_count": 7,
   "metadata": {},
   "outputs": [],
   "source": [
    "# Read the data from the given URL and see the top 5 records\n",
    "import pandas as pd\n",
    "df = pd.read_csv('https://archive.ics.uci.edu/ml/machine-learning-databases/adult/adult.data')\n",
    "\n",
    "# Rename the columns as per the description.\n",
    "df.columns = ['age', 'workclass', 'fnlwgt', 'education', 'educationnum', 'maritalstatus', 'occupation', 'relationship' ,'race', 'sex' , 'capitalgain', 'capitalloss' , 'hoursperweek', 'nativecountry','classname' ]    \n",
    "df = df.infer_objects()\n",
    "\n",
    "df_new = pd.DataFrame(df)"
   ]
  },
  {
   "cell_type": "code",
   "execution_count": 8,
   "metadata": {},
   "outputs": [
    {
     "name": "stdout",
     "output_type": "stream",
     "text": [
      "<class 'pandas.core.frame.DataFrame'>\n",
      "RangeIndex: 32560 entries, 0 to 32559\n",
      "Data columns (total 15 columns):\n",
      "age              32560 non-null int64\n",
      "workclass        32560 non-null object\n",
      "fnlwgt           32560 non-null int64\n",
      "education        32560 non-null object\n",
      "educationnum     32560 non-null int64\n",
      "maritalstatus    32560 non-null object\n",
      "occupation       32560 non-null object\n",
      "relationship     32560 non-null object\n",
      "race             32560 non-null object\n",
      "sex              32560 non-null object\n",
      "capitalgain      32560 non-null int64\n",
      "capitalloss      32560 non-null int64\n",
      "hoursperweek     32560 non-null int64\n",
      "nativecountry    32560 non-null object\n",
      "classname        32560 non-null object\n",
      "dtypes: int64(6), object(9)\n",
      "memory usage: 3.7+ MB\n"
     ]
    },
    {
     "data": {
      "text/html": [
       "<div>\n",
       "<style scoped>\n",
       "    .dataframe tbody tr th:only-of-type {\n",
       "        vertical-align: middle;\n",
       "    }\n",
       "\n",
       "    .dataframe tbody tr th {\n",
       "        vertical-align: top;\n",
       "    }\n",
       "\n",
       "    .dataframe thead th {\n",
       "        text-align: right;\n",
       "    }\n",
       "</style>\n",
       "<table border=\"1\" class=\"dataframe\">\n",
       "  <thead>\n",
       "    <tr style=\"text-align: right;\">\n",
       "      <th></th>\n",
       "      <th>age</th>\n",
       "      <th>workclass</th>\n",
       "      <th>fnlwgt</th>\n",
       "      <th>education</th>\n",
       "      <th>educationnum</th>\n",
       "      <th>maritalstatus</th>\n",
       "      <th>occupation</th>\n",
       "      <th>relationship</th>\n",
       "      <th>race</th>\n",
       "      <th>sex</th>\n",
       "      <th>capitalgain</th>\n",
       "      <th>capitalloss</th>\n",
       "      <th>hoursperweek</th>\n",
       "      <th>nativecountry</th>\n",
       "      <th>classname</th>\n",
       "    </tr>\n",
       "  </thead>\n",
       "  <tbody>\n",
       "    <tr>\n",
       "      <th>0</th>\n",
       "      <td>50</td>\n",
       "      <td>Self-emp-not-inc</td>\n",
       "      <td>83311</td>\n",
       "      <td>Bachelors</td>\n",
       "      <td>13</td>\n",
       "      <td>Married-civ-spouse</td>\n",
       "      <td>Exec-managerial</td>\n",
       "      <td>Husband</td>\n",
       "      <td>White</td>\n",
       "      <td>Male</td>\n",
       "      <td>0</td>\n",
       "      <td>0</td>\n",
       "      <td>13</td>\n",
       "      <td>United-States</td>\n",
       "      <td>&lt;=50K</td>\n",
       "    </tr>\n",
       "    <tr>\n",
       "      <th>1</th>\n",
       "      <td>38</td>\n",
       "      <td>Private</td>\n",
       "      <td>215646</td>\n",
       "      <td>HS-grad</td>\n",
       "      <td>9</td>\n",
       "      <td>Divorced</td>\n",
       "      <td>Handlers-cleaners</td>\n",
       "      <td>Not-in-family</td>\n",
       "      <td>White</td>\n",
       "      <td>Male</td>\n",
       "      <td>0</td>\n",
       "      <td>0</td>\n",
       "      <td>40</td>\n",
       "      <td>United-States</td>\n",
       "      <td>&lt;=50K</td>\n",
       "    </tr>\n",
       "    <tr>\n",
       "      <th>2</th>\n",
       "      <td>53</td>\n",
       "      <td>Private</td>\n",
       "      <td>234721</td>\n",
       "      <td>11th</td>\n",
       "      <td>7</td>\n",
       "      <td>Married-civ-spouse</td>\n",
       "      <td>Handlers-cleaners</td>\n",
       "      <td>Husband</td>\n",
       "      <td>Black</td>\n",
       "      <td>Male</td>\n",
       "      <td>0</td>\n",
       "      <td>0</td>\n",
       "      <td>40</td>\n",
       "      <td>United-States</td>\n",
       "      <td>&lt;=50K</td>\n",
       "    </tr>\n",
       "    <tr>\n",
       "      <th>3</th>\n",
       "      <td>28</td>\n",
       "      <td>Private</td>\n",
       "      <td>338409</td>\n",
       "      <td>Bachelors</td>\n",
       "      <td>13</td>\n",
       "      <td>Married-civ-spouse</td>\n",
       "      <td>Prof-specialty</td>\n",
       "      <td>Wife</td>\n",
       "      <td>Black</td>\n",
       "      <td>Female</td>\n",
       "      <td>0</td>\n",
       "      <td>0</td>\n",
       "      <td>40</td>\n",
       "      <td>Cuba</td>\n",
       "      <td>&lt;=50K</td>\n",
       "    </tr>\n",
       "    <tr>\n",
       "      <th>4</th>\n",
       "      <td>37</td>\n",
       "      <td>Private</td>\n",
       "      <td>284582</td>\n",
       "      <td>Masters</td>\n",
       "      <td>14</td>\n",
       "      <td>Married-civ-spouse</td>\n",
       "      <td>Exec-managerial</td>\n",
       "      <td>Wife</td>\n",
       "      <td>White</td>\n",
       "      <td>Female</td>\n",
       "      <td>0</td>\n",
       "      <td>0</td>\n",
       "      <td>40</td>\n",
       "      <td>United-States</td>\n",
       "      <td>&lt;=50K</td>\n",
       "    </tr>\n",
       "  </tbody>\n",
       "</table>\n",
       "</div>"
      ],
      "text/plain": [
       "   age          workclass  fnlwgt   education  educationnum  \\\n",
       "0   50   Self-emp-not-inc   83311   Bachelors            13   \n",
       "1   38            Private  215646     HS-grad             9   \n",
       "2   53            Private  234721        11th             7   \n",
       "3   28            Private  338409   Bachelors            13   \n",
       "4   37            Private  284582     Masters            14   \n",
       "\n",
       "         maritalstatus          occupation    relationship    race      sex  \\\n",
       "0   Married-civ-spouse     Exec-managerial         Husband   White     Male   \n",
       "1             Divorced   Handlers-cleaners   Not-in-family   White     Male   \n",
       "2   Married-civ-spouse   Handlers-cleaners         Husband   Black     Male   \n",
       "3   Married-civ-spouse      Prof-specialty            Wife   Black   Female   \n",
       "4   Married-civ-spouse     Exec-managerial            Wife   White   Female   \n",
       "\n",
       "   capitalgain  capitalloss  hoursperweek   nativecountry classname  \n",
       "0            0            0            13   United-States     <=50K  \n",
       "1            0            0            40   United-States     <=50K  \n",
       "2            0            0            40   United-States     <=50K  \n",
       "3            0            0            40            Cuba     <=50K  \n",
       "4            0            0            40   United-States     <=50K  "
      ]
     },
     "execution_count": 8,
     "metadata": {},
     "output_type": "execute_result"
    }
   ],
   "source": [
    "df_new.info()\n",
    "df_new.head(5)"
   ]
  },
  {
   "cell_type": "code",
   "execution_count": 9,
   "metadata": {},
   "outputs": [],
   "source": [
    "from sqlalchemy.orm import sessionmaker\n",
    "Session = sessionmaker(bind=engine)\n",
    "session = Session()"
   ]
  },
  {
   "cell_type": "code",
   "execution_count": 10,
   "metadata": {},
   "outputs": [],
   "source": [
    "adult = Adult( age = 50, workclass = 'Private' , fnlwgt = 83311, education ='Bachelors', educationnum = 13, maritalstatus = 'Married-civ-spouse', occupation ='Exec-managerial' , relationship = 'Husband', race = 'White', sex = 'Male', capitalgain =10000, capitalloss = 0, hoursperweek = 40, nativecountry = 'India', classname = '<=50K')\n",
    "session.add(adult)\n",
    "\n",
    "adult = Adult( age = 40, workclass = 'Self-emp-not-inc', fnlwgt = 215646, education ='Masters', educationnum = 14, maritalstatus = 'Married-civ-spouse', occupation ='Exec-managerial' , relationship = 'Husband', race = 'White', sex = 'Male', capitalgain =10000, capitalloss = 0, hoursperweek = 50, nativecountry = 'USA', classname = '<=50K')\n",
    "session.add(adult)\n",
    "\n",
    "adult = Adult( age = 0, workclass = 'Self-emp-not-inc', fnlwgt = 215646, education ='Masters', educationnum = 14, maritalstatus = 'Married-civ-spouse', occupation ='Exec-managerial' , relationship = 'Husband', race = 'White', sex = 'Male', capitalgain =10000, capitalloss = 0, hoursperweek = 60, nativecountry = 'SWEDAN', classname = '<=50K')\n",
    "session.add(adult)\n",
    "\n",
    "adult = Adult( age = 10, workclass = 'Self-emp-not-inc', fnlwgt = 215646, education ='Masters', educationnum = 14, maritalstatus = 'Married-civ-spouse', occupation ='Exec-managerial' , relationship = 'Husband', race = 'White', sex = 'Male', capitalgain =10000, capitalloss = 0, hoursperweek = 70, nativecountry = 'FRANCE', classname = '<=50K')\n",
    "session.add(adult)"
   ]
  },
  {
   "cell_type": "code",
   "execution_count": 11,
   "metadata": {},
   "outputs": [
    {
     "name": "stdout",
     "output_type": "stream",
     "text": [
      "2018-10-07 15:53:37,729 INFO sqlalchemy.engine.base.Engine BEGIN (implicit)\n",
      "2018-10-07 15:53:37,731 INFO sqlalchemy.engine.base.Engine INSERT INTO adults (age, workclass, fnlwgt, education, educationnum, maritalstatus, occupation, relationship, race, sex, capitalgain, capitalloss, hoursperweek, nativecountry, classname) VALUES (?, ?, ?, ?, ?, ?, ?, ?, ?, ?, ?, ?, ?, ?, ?)\n",
      "2018-10-07 15:53:37,732 INFO sqlalchemy.engine.base.Engine (50, 'Private', 83311, 'Bachelors', 13, 'Married-civ-spouse', 'Exec-managerial', 'Husband', 'White', 'Male', 10000, 0, 40, 'India', '<=50K')\n",
      "2018-10-07 15:53:37,733 INFO sqlalchemy.engine.base.Engine INSERT INTO adults (age, workclass, fnlwgt, education, educationnum, maritalstatus, occupation, relationship, race, sex, capitalgain, capitalloss, hoursperweek, nativecountry, classname) VALUES (?, ?, ?, ?, ?, ?, ?, ?, ?, ?, ?, ?, ?, ?, ?)\n",
      "2018-10-07 15:53:37,734 INFO sqlalchemy.engine.base.Engine (40, 'Self-emp-not-inc', 215646, 'Masters', 14, 'Married-civ-spouse', 'Exec-managerial', 'Husband', 'White', 'Male', 10000, 0, 50, 'USA', '<=50K')\n",
      "2018-10-07 15:53:37,735 INFO sqlalchemy.engine.base.Engine INSERT INTO adults (age, workclass, fnlwgt, education, educationnum, maritalstatus, occupation, relationship, race, sex, capitalgain, capitalloss, hoursperweek, nativecountry, classname) VALUES (?, ?, ?, ?, ?, ?, ?, ?, ?, ?, ?, ?, ?, ?, ?)\n",
      "2018-10-07 15:53:37,736 INFO sqlalchemy.engine.base.Engine (0, 'Self-emp-not-inc', 215646, 'Masters', 14, 'Married-civ-spouse', 'Exec-managerial', 'Husband', 'White', 'Male', 10000, 0, 60, 'SWEDAN', '<=50K')\n",
      "2018-10-07 15:53:37,737 INFO sqlalchemy.engine.base.Engine INSERT INTO adults (age, workclass, fnlwgt, education, educationnum, maritalstatus, occupation, relationship, race, sex, capitalgain, capitalloss, hoursperweek, nativecountry, classname) VALUES (?, ?, ?, ?, ?, ?, ?, ?, ?, ?, ?, ?, ?, ?, ?)\n",
      "2018-10-07 15:53:37,738 INFO sqlalchemy.engine.base.Engine (10, 'Self-emp-not-inc', 215646, 'Masters', 14, 'Married-civ-spouse', 'Exec-managerial', 'Husband', 'White', 'Male', 10000, 0, 70, 'FRANCE', '<=50K')\n",
      "2018-10-07 15:53:37,741 INFO sqlalchemy.engine.base.Engine SELECT adults.id AS adults_id, adults.age AS adults_age, adults.workclass AS adults_workclass, adults.fnlwgt AS adults_fnlwgt, adults.education AS adults_education, adults.educationnum AS adults_educationnum, adults.maritalstatus AS adults_maritalstatus, adults.occupation AS adults_occupation, adults.relationship AS adults_relationship, adults.race AS adults_race, adults.sex AS adults_sex, adults.capitalgain AS adults_capitalgain, adults.capitalloss AS adults_capitalloss, adults.hoursperweek AS adults_hoursperweek, adults.nativecountry AS adults_nativecountry, adults.classname AS adults_classname \n",
      "FROM adults ORDER BY adults.id\n",
      "2018-10-07 15:53:37,742 INFO sqlalchemy.engine.base.Engine ()\n",
      "50 Private India Bachelors\n",
      "40 Self-emp-not-inc USA Masters\n",
      "0 Self-emp-not-inc SWEDAN Masters\n",
      "10 Self-emp-not-inc FRANCE Masters\n"
     ]
    }
   ],
   "source": [
    "for instance in session.query(Adult).order_by(Adult.id):\n",
    "     print(instance.age, instance.workclass, instance.nativecountry, instance.education)"
   ]
  },
  {
   "cell_type": "code",
   "execution_count": 12,
   "metadata": {},
   "outputs": [
    {
     "name": "stdout",
     "output_type": "stream",
     "text": [
      "2018-10-07 15:53:37,753 INFO sqlalchemy.engine.base.Engine SELECT adults.id AS adults_id, adults.age AS adults_age, adults.workclass AS adults_workclass, adults.fnlwgt AS adults_fnlwgt, adults.education AS adults_education, adults.educationnum AS adults_educationnum, adults.maritalstatus AS adults_maritalstatus, adults.occupation AS adults_occupation, adults.relationship AS adults_relationship, adults.race AS adults_race, adults.sex AS adults_sex, adults.capitalgain AS adults_capitalgain, adults.capitalloss AS adults_capitalloss, adults.hoursperweek AS adults_hoursperweek, adults.nativecountry AS adults_nativecountry, adults.classname AS adults_classname \n",
      "FROM adults \n",
      "WHERE adults.nativecountry = ?\n",
      " LIMIT ? OFFSET ?\n",
      "2018-10-07 15:53:37,755 INFO sqlalchemy.engine.base.Engine ('USA', 1, 0)\n",
      "2018-10-07 15:53:37,760 INFO sqlalchemy.engine.base.Engine UPDATE adults SET education=?, nativecountry=? WHERE adults.id = ?\n",
      "2018-10-07 15:53:37,762 INFO sqlalchemy.engine.base.Engine ('PHD', 'India', 2)\n",
      "2018-10-07 15:53:37,764 INFO sqlalchemy.engine.base.Engine SELECT adults.id AS adults_id, adults.age AS adults_age, adults.workclass AS adults_workclass, adults.fnlwgt AS adults_fnlwgt, adults.education AS adults_education, adults.educationnum AS adults_educationnum, adults.maritalstatus AS adults_maritalstatus, adults.occupation AS adults_occupation, adults.relationship AS adults_relationship, adults.race AS adults_race, adults.sex AS adults_sex, adults.capitalgain AS adults_capitalgain, adults.capitalloss AS adults_capitalloss, adults.hoursperweek AS adults_hoursperweek, adults.nativecountry AS adults_nativecountry, adults.classname AS adults_classname \n",
      "FROM adults ORDER BY adults.id\n",
      "2018-10-07 15:53:37,765 INFO sqlalchemy.engine.base.Engine ()\n",
      "50 Private India Bachelors\n",
      "40 Self-emp-not-inc India PHD\n",
      "0 Self-emp-not-inc SWEDAN Masters\n",
      "10 Self-emp-not-inc FRANCE Masters\n"
     ]
    }
   ],
   "source": [
    "# 2. Write two basic update queries\n",
    "adult_usa = session.query(Adult).filter_by(nativecountry='USA').first() \n",
    "adult_usa.nativecountry ='India'\n",
    "adult_usa.education ='PHD'\n",
    "\n",
    "for instance in session.query(Adult).order_by(Adult.id):\n",
    "    print(instance.age, instance.workclass, instance.nativecountry, instance.education)"
   ]
  },
  {
   "cell_type": "code",
   "execution_count": 13,
   "metadata": {},
   "outputs": [
    {
     "name": "stdout",
     "output_type": "stream",
     "text": [
      "2018-10-07 15:53:37,777 INFO sqlalchemy.engine.base.Engine SELECT adults.id AS adults_id, adults.age AS adults_age, adults.workclass AS adults_workclass, adults.fnlwgt AS adults_fnlwgt, adults.education AS adults_education, adults.educationnum AS adults_educationnum, adults.maritalstatus AS adults_maritalstatus, adults.occupation AS adults_occupation, adults.relationship AS adults_relationship, adults.race AS adults_race, adults.sex AS adults_sex, adults.capitalgain AS adults_capitalgain, adults.capitalloss AS adults_capitalloss, adults.hoursperweek AS adults_hoursperweek, adults.nativecountry AS adults_nativecountry, adults.classname AS adults_classname \n",
      "FROM adults \n",
      "WHERE adults.nativecountry = ?\n",
      "2018-10-07 15:53:37,779 INFO sqlalchemy.engine.base.Engine ('SWEDAN',)\n",
      "2018-10-07 15:53:37,782 INFO sqlalchemy.engine.base.Engine DELETE FROM adults WHERE adults.id = ?\n",
      "2018-10-07 15:53:37,783 INFO sqlalchemy.engine.base.Engine (3,)\n",
      "2018-10-07 15:53:37,784 INFO sqlalchemy.engine.base.Engine COMMIT\n"
     ]
    }
   ],
   "source": [
    "# 3. Write two delete queries\n",
    "adult_delete = session.query(Adult).filter_by(nativecountry='SWEDAN').one()\n",
    "session.delete(adult_delete)\n",
    "session.commit()\n",
    "\n"
   ]
  },
  {
   "cell_type": "code",
   "execution_count": 14,
   "metadata": {},
   "outputs": [
    {
     "name": "stdout",
     "output_type": "stream",
     "text": [
      "2018-10-07 15:53:37,792 INFO sqlalchemy.engine.base.Engine BEGIN (implicit)\n",
      "2018-10-07 15:53:37,795 INFO sqlalchemy.engine.base.Engine SELECT adults.id AS adults_id, adults.age AS adults_age, adults.workclass AS adults_workclass, adults.fnlwgt AS adults_fnlwgt, adults.education AS adults_education, adults.educationnum AS adults_educationnum, adults.maritalstatus AS adults_maritalstatus, adults.occupation AS adults_occupation, adults.relationship AS adults_relationship, adults.race AS adults_race, adults.sex AS adults_sex, adults.capitalgain AS adults_capitalgain, adults.capitalloss AS adults_capitalloss, adults.hoursperweek AS adults_hoursperweek, adults.nativecountry AS adults_nativecountry, adults.classname AS adults_classname \n",
      "FROM adults \n",
      "WHERE adults.hoursperweek = ?\n",
      "2018-10-07 15:53:37,796 INFO sqlalchemy.engine.base.Engine (40,)\n",
      "2018-10-07 15:53:37,798 INFO sqlalchemy.engine.base.Engine DELETE FROM adults WHERE adults.id = ?\n",
      "2018-10-07 15:53:37,799 INFO sqlalchemy.engine.base.Engine (1,)\n",
      "2018-10-07 15:53:37,801 INFO sqlalchemy.engine.base.Engine COMMIT\n"
     ]
    }
   ],
   "source": [
    "adult_delete = session.query(Adult).filter_by(hoursperweek=40).one()\n",
    "session.delete(adult_delete)\n",
    "session.commit()\n"
   ]
  },
  {
   "cell_type": "code",
   "execution_count": 15,
   "metadata": {},
   "outputs": [
    {
     "name": "stdout",
     "output_type": "stream",
     "text": [
      "2018-10-07 15:53:37,813 INFO sqlalchemy.engine.base.Engine BEGIN (implicit)\n",
      "2018-10-07 15:53:37,816 INFO sqlalchemy.engine.base.Engine SELECT adults.id AS adults_id, adults.age AS adults_age, adults.workclass AS adults_workclass, adults.fnlwgt AS adults_fnlwgt, adults.education AS adults_education, adults.educationnum AS adults_educationnum, adults.maritalstatus AS adults_maritalstatus, adults.occupation AS adults_occupation, adults.relationship AS adults_relationship, adults.race AS adults_race, adults.sex AS adults_sex, adults.capitalgain AS adults_capitalgain, adults.capitalloss AS adults_capitalloss, adults.hoursperweek AS adults_hoursperweek, adults.nativecountry AS adults_nativecountry, adults.classname AS adults_classname \n",
      "FROM adults ORDER BY adults.id\n",
      "2018-10-07 15:53:37,818 INFO sqlalchemy.engine.base.Engine ()\n",
      "40 Self-emp-not-inc India PHD\n",
      "10 Self-emp-not-inc FRANCE Masters\n"
     ]
    }
   ],
   "source": [
    "for instance in session.query(Adult).order_by(Adult.id):\n",
    "    print(instance.age, instance.workclass, instance.nativecountry, instance.education)"
   ]
  },
  {
   "cell_type": "code",
   "execution_count": 16,
   "metadata": {},
   "outputs": [
    {
     "name": "stdout",
     "output_type": "stream",
     "text": [
      "2018-10-07 15:53:37,833 INFO sqlalchemy.engine.base.Engine INSERT INTO adults (age, workclass, fnlwgt, education, educationnum, maritalstatus, occupation, relationship, race, sex, capitalgain, capitalloss, hoursperweek, nativecountry, classname) VALUES (?, ?, ?, ?, ?, ?, ?, ?, ?, ?, ?, ?, ?, ?, ?)\n",
      "2018-10-07 15:53:37,834 INFO sqlalchemy.engine.base.Engine (10, 'Self-emp-not-inc', 215646, 'Masters', 14, 'Married-civ-spouse', 'Exec-managerial', 'Husband', 'White', 'Male', 10000, 0, 70, 'FRANCE', '<=50K')\n",
      "2018-10-07 15:53:37,837 INFO sqlalchemy.engine.base.Engine SELECT adults.id AS adults_id, adults.age AS adults_age, adults.workclass AS adults_workclass, adults.fnlwgt AS adults_fnlwgt, adults.education AS adults_education, adults.educationnum AS adults_educationnum, adults.maritalstatus AS adults_maritalstatus, adults.occupation AS adults_occupation, adults.relationship AS adults_relationship, adults.race AS adults_race, adults.sex AS adults_sex, adults.capitalgain AS adults_capitalgain, adults.capitalloss AS adults_capitalloss, adults.hoursperweek AS adults_hoursperweek, adults.nativecountry AS adults_nativecountry, adults.classname AS adults_classname \n",
      "FROM adults \n",
      "WHERE adults.nativecountry = ?\n",
      "2018-10-07 15:53:37,838 INFO sqlalchemy.engine.base.Engine ('India',)\n",
      "40 Self-emp-not-inc India PHD\n"
     ]
    }
   ],
   "source": [
    "#4. Write two filter queries\n",
    "adult = Adult( age = 10, workclass = 'Self-emp-not-inc', fnlwgt = 215646, education ='Masters', educationnum = 14, maritalstatus = 'Married-civ-spouse', occupation ='Exec-managerial' , relationship = 'Husband', race = 'White', sex = 'Male', capitalgain =10000, capitalloss = 0, hoursperweek = 70, nativecountry = 'FRANCE', classname = '<=50K')\n",
    "session.add(adult)\n",
    "\n",
    "for instance in session.query(Adult).filter_by(nativecountry = 'India'):\n",
    "    print(instance.age, instance.workclass, instance.nativecountry, instance.education)"
   ]
  },
  {
   "cell_type": "code",
   "execution_count": 17,
   "metadata": {},
   "outputs": [
    {
     "name": "stdout",
     "output_type": "stream",
     "text": [
      "2018-10-07 15:53:37,851 INFO sqlalchemy.engine.base.Engine SELECT count(adults.id) AS count_1 \n",
      "FROM adults\n",
      "2018-10-07 15:53:37,854 INFO sqlalchemy.engine.base.Engine ()\n"
     ]
    },
    {
     "data": {
      "text/plain": [
       "3"
      ]
     },
     "execution_count": 17,
     "metadata": {},
     "output_type": "execute_result"
    }
   ],
   "source": [
    "#%.Write two function queries\n",
    "from sqlalchemy import func\n",
    "session.query(func.count(Adult.id)).scalar()"
   ]
  },
  {
   "cell_type": "code",
   "execution_count": 18,
   "metadata": {},
   "outputs": [
    {
     "name": "stdout",
     "output_type": "stream",
     "text": [
      "2018-10-07 15:53:37,870 INFO sqlalchemy.engine.base.Engine INSERT INTO adults (age, workclass, fnlwgt, education, educationnum, maritalstatus, occupation, relationship, race, sex, capitalgain, capitalloss, hoursperweek, nativecountry, classname) VALUES (?, ?, ?, ?, ?, ?, ?, ?, ?, ?, ?, ?, ?, ?, ?)\n",
      "2018-10-07 15:53:37,873 INFO sqlalchemy.engine.base.Engine (30, 'Self-emp-not-inc', 215646, 'Masters', 14, 'Married-civ-spouse', 'Exec-managerial', 'Husband', 'White', 'Male', 10000, 0, 70, 'India', '<=50K')\n",
      "2018-10-07 15:53:37,879 INFO sqlalchemy.engine.base.Engine SELECT count(adults.nativecountry) AS count_1, adults.nativecountry AS adults_nativecountry \n",
      "FROM adults GROUP BY adults.nativecountry\n",
      "2018-10-07 15:53:37,880 INFO sqlalchemy.engine.base.Engine ()\n"
     ]
    },
    {
     "data": {
      "text/plain": [
       "[(2, 'FRANCE'), (2, 'India')]"
      ]
     },
     "execution_count": 18,
     "metadata": {},
     "output_type": "execute_result"
    }
   ],
   "source": [
    "adult = Adult( age =30, workclass = 'Self-emp-not-inc', fnlwgt = 215646, education ='Masters', educationnum = 14, maritalstatus = 'Married-civ-spouse', occupation ='Exec-managerial' , relationship = 'Husband', race = 'White', sex = 'Male', capitalgain =10000, capitalloss = 0, hoursperweek = 70, nativecountry = 'India', classname = '<=50K')\n",
    "session.add(adult)\n",
    "session.query(func.count(Adult.nativecountry), Adult.nativecountry).group_by(Adult.nativecountry).all()"
   ]
  },
  {
   "cell_type": "code",
   "execution_count": null,
   "metadata": {},
   "outputs": [],
   "source": []
  }
 ],
 "metadata": {
  "kernelspec": {
   "display_name": "Python 3",
   "language": "python",
   "name": "python3"
  },
  "language_info": {
   "codemirror_mode": {
    "name": "ipython",
    "version": 3
   },
   "file_extension": ".py",
   "mimetype": "text/x-python",
   "name": "python",
   "nbconvert_exporter": "python",
   "pygments_lexer": "ipython3",
   "version": "3.6.5"
  }
 },
 "nbformat": 4,
 "nbformat_minor": 2
}
